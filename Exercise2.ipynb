{
 "cells": [
  {
   "cell_type": "code",
   "execution_count": 20,
   "metadata": {},
   "outputs": [
    {
     "name": "stdout",
     "output_type": "stream",
     "text": [
      "[1, 'This is a list']\n",
      "[2, 2.318281828, 'some Test String', [1, 'This is a list']]\n"
     ]
    }
   ],
   "source": [
    "pList1 = [1,\"This is a list\"]\n",
    "print(pList1)\n",
    "\n",
    "\n",
    "pInt = 2\n",
    "pReal = 2.318281828\n",
    "pString = \"some Test String\"\n",
    "pList2 = [ pInt, pReal, pString, pList1]\n",
    "print(pList2)\n"
   ]
  },
  {
   "cell_type": "code",
   "execution_count": 22,
   "metadata": {},
   "outputs": [
    {
     "name": "stdout",
     "output_type": "stream",
     "text": [
      "[1, 'This is a list', 'last', 'last']\n"
     ]
    }
   ],
   "source": [
    "pList1.append(\"last\")\n",
    "print(pList1)"
   ]
  },
  {
   "cell_type": "code",
   "execution_count": 23,
   "metadata": {},
   "outputs": [
    {
     "name": "stdout",
     "output_type": "stream",
     "text": [
      "[1, 'This is a list', 'last', 'last', 2, 2.318281828, 'some Test String', [...]]\n"
     ]
    }
   ],
   "source": [
    "pList1.extend(pList2)\n",
    "print(pList1)"
   ]
  },
  {
   "cell_type": "code",
   "execution_count": 24,
   "metadata": {
    "collapsed": true
   },
   "outputs": [],
   "source": [
    "pList1.insert(0,\"zero position\")"
   ]
  },
  {
   "cell_type": "code",
   "execution_count": 25,
   "metadata": {},
   "outputs": [
    {
     "name": "stdout",
     "output_type": "stream",
     "text": [
      "['zero position', 1, 'This is a list', 'last', 'last', 2, 2.318281828, 'some Test String', [...]]\n"
     ]
    }
   ],
   "source": [
    "print(pList1)"
   ]
  },
  {
   "cell_type": "code",
   "execution_count": 26,
   "metadata": {
    "collapsed": true
   },
   "outputs": [],
   "source": [
    "pList1.remove(\"zero position\")"
   ]
  },
  {
   "cell_type": "code",
   "execution_count": 27,
   "metadata": {},
   "outputs": [
    {
     "name": "stdout",
     "output_type": "stream",
     "text": [
      "[1, 'This is a list', 'last', 'last', 2, 2.318281828, 'some Test String', [...]]\n"
     ]
    }
   ],
   "source": [
    "print(pList1)"
   ]
  },
  {
   "cell_type": "code",
   "execution_count": 29,
   "metadata": {
    "collapsed": true
   },
   "outputs": [],
   "source": [
    "pList1.reverse()"
   ]
  },
  {
   "cell_type": "code",
   "execution_count": 30,
   "metadata": {},
   "outputs": [
    {
     "name": "stdout",
     "output_type": "stream",
     "text": [
      "[1, 'This is a list', 'last', 'last', 2, 2.318281828, 'some Test String', [...]]\n"
     ]
    }
   ],
   "source": [
    "print(pList1)"
   ]
  },
  {
   "cell_type": "code",
   "execution_count": 31,
   "metadata": {},
   "outputs": [
    {
     "data": {
      "text/plain": [
       "[1, 'This is a list', 'last', 'last', 2, 2.318281828, 'some Test String']"
      ]
     },
     "execution_count": 31,
     "metadata": {},
     "output_type": "execute_result"
    }
   ],
   "source": [
    "pList1.pop()"
   ]
  },
  {
   "cell_type": "code",
   "execution_count": 33,
   "metadata": {
    "collapsed": true
   },
   "outputs": [],
   "source": [
    "tel = {\"jack\":4098, \"sapiron\": 4567, \"guido\":4127}"
   ]
  },
  {
   "cell_type": "code",
   "execution_count": 34,
   "metadata": {},
   "outputs": [
    {
     "data": {
      "text/plain": [
       "{'guido': 4127, 'jack': 4098, 'sapiron': 4567}"
      ]
     },
     "execution_count": 34,
     "metadata": {},
     "output_type": "execute_result"
    }
   ],
   "source": [
    "tel"
   ]
  },
  {
   "cell_type": "code",
   "execution_count": 35,
   "metadata": {},
   "outputs": [
    {
     "data": {
      "text/plain": [
       "4098"
      ]
     },
     "execution_count": 35,
     "metadata": {},
     "output_type": "execute_result"
    }
   ],
   "source": [
    "tel[\"jack\"]"
   ]
  },
  {
   "cell_type": "code",
   "execution_count": 38,
   "metadata": {},
   "outputs": [
    {
     "name": "stdout",
     "output_type": "stream",
     "text": [
      "jack\n",
      "sapiron\n",
      "guido\n"
     ]
    }
   ],
   "source": [
    "for key in tel.keys():\n",
    "    print(key)"
   ]
  },
  {
   "cell_type": "code",
   "execution_count": 39,
   "metadata": {},
   "outputs": [
    {
     "name": "stdout",
     "output_type": "stream",
     "text": [
      "4098\n",
      "4567\n",
      "4127\n"
     ]
    }
   ],
   "source": [
    "for value in tel.values():\n",
    "    print(value)"
   ]
  },
  {
   "cell_type": "code",
   "execution_count": 40,
   "metadata": {},
   "outputs": [
    {
     "name": "stdout",
     "output_type": "stream",
     "text": [
      "('jack', 4098)\n",
      "('sapiron', 4567)\n",
      "('guido', 4127)\n"
     ]
    }
   ],
   "source": [
    "for item in tel.items():\n",
    "    print(item)"
   ]
  },
  {
   "cell_type": "code",
   "execution_count": 45,
   "metadata": {},
   "outputs": [
    {
     "name": "stdout",
     "output_type": "stream",
     "text": [
      "jack 4098\n",
      "sapiron 4567\n",
      "guido 4127\n"
     ]
    }
   ],
   "source": [
    "for key, value in tel.items():\n",
    "    print(key, value)"
   ]
  },
  {
   "cell_type": "code",
   "execution_count": 42,
   "metadata": {},
   "outputs": [
    {
     "name": "stdout",
     "output_type": "stream",
     "text": [
      "0 1\n",
      "1 This is a list\n",
      "2 last\n",
      "3 last\n",
      "4 2\n",
      "5 2.318281828\n",
      "6 some Test String\n"
     ]
    }
   ],
   "source": [
    "for pos, val in enumerate(pList1):\n",
    "    print(pos, val)"
   ]
  },
  {
   "cell_type": "code",
   "execution_count": 46,
   "metadata": {},
   "outputs": [
    {
     "name": "stdout",
     "output_type": "stream",
     "text": [
      "1 2 1\n",
      "This is a list 2.318281828 This is a list\n",
      "last some Test String last\n",
      "last [1, 'This is a list', 'last', 'last', 2, 2.318281828, 'some Test String'] last\n"
     ]
    }
   ],
   "source": [
    "for v1, v2, v3 in zip(pList1, pList2, pList1):\n",
    "    print(v1,v2,v3)"
   ]
  },
  {
   "cell_type": "code",
   "execution_count": 58,
   "metadata": {},
   "outputs": [
    {
     "name": "stdout",
     "output_type": "stream",
     "text": [
      "[5, 7, 11, 13, 17, 19, 23]\n"
     ]
    }
   ],
   "source": [
    "def prim(x):\n",
    "    return (x%2 != 0 and x%3 != 0)\n",
    "s = range(2,25)\n",
    "print(list(filter(prim, s)))"
   ]
  },
  {
   "cell_type": "code",
   "execution_count": null,
   "metadata": {
    "collapsed": true
   },
   "outputs": [],
   "source": []
  }
 ],
 "metadata": {
  "kernelspec": {
   "display_name": "Python 3",
   "language": "python",
   "name": "python3"
  },
  "language_info": {
   "codemirror_mode": {
    "name": "ipython",
    "version": 3
   },
   "file_extension": ".py",
   "mimetype": "text/x-python",
   "name": "python",
   "nbconvert_exporter": "python",
   "pygments_lexer": "ipython3",
   "version": "3.6.1"
  }
 },
 "nbformat": 4,
 "nbformat_minor": 2
}
