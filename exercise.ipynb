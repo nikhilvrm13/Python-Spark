{
 "cells": [
  {
   "cell_type": "code",
   "execution_count": 1,
   "metadata": {},
   "outputs": [
    {
     "name": "stdout",
     "output_type": "stream",
     "text": [
      "The script is called: /anaconda/lib/python3.6/site-packages/ipykernel_launcher.py\n",
      "Your first variable is: -f\n",
      "Your second variable is: /Users/nikhilverma/Library/Jupyter/runtime/kernel-9b3a8274-81d5-46a8-a7d9-5a9012850826.json\n",
      "The script is called: Exercise13\n",
      "Your first variable is: string param1\n",
      "Your second variable is: 34\n",
      "Your third variable is: 23.5\n"
     ]
    }
   ],
   "source": [
    "from sys import argv\n",
    "\n",
    "script, first, second = argv\n",
    "\n",
    "print (\"The script is called:\", script)\n",
    "print (\"Your first variable is:\", first)\n",
    "print (\"Your second variable is:\", second)\n",
    "\n",
    "script = \"Exercise13\"\n",
    "first = \"string param1\"\n",
    "second = 34\n",
    "third = 23.5\n",
    "\n",
    "print (\"The script is called:\", script)\n",
    "print (\"Your first variable is:\", first)\n",
    "print (\"Your second variable is:\", second)\n",
    "print (\"Your third variable is:\", third)"
   ]
  },
  {
   "cell_type": "code",
   "execution_count": 2,
   "metadata": {},
   "outputs": [
    {
     "name": "stdout",
     "output_type": "stream",
     "text": [
      "Hi Nikhil  I'm the script  ['/anaconda/lib/python3.6/site-packages/ipykernel_launcher.py', '-f', '/Users/nikhilverma/Library/Jupyter/runtime/kernel-9b3a8274-81d5-46a8-a7d9-5a9012850826.json']\n",
      "I'd like to ask you a few questions.\n",
      "Do you like me ? Nikhil\n",
      "> yes\n",
      "Nikhil says  yes\n"
     ]
    }
   ],
   "source": [
    "from sys import argv\n",
    "\n",
    "script = argv              \n",
    "user_name = \"Nikhil\"      \n",
    "prompt = '> '\n",
    "\n",
    "print (\"Hi\", user_name, \" I'm the script \", script)\n",
    "print (\"I'd like to ask you a few questions.\")\n",
    "print (\"Do you like me ?\",  user_name )\n",
    "likes = input(prompt)\n",
    "print(user_name, \"says \", likes)"
   ]
  },
  {
   "cell_type": "code",
   "execution_count": 3,
   "metadata": {},
   "outputs": [
    {
     "name": "stdout",
     "output_type": "stream",
     "text": [
      "Contents of your file  poem.txt\n",
      "Don't\n",
      "erase\n",
      "it\n",
      "\n",
      "Type the filename again:\n",
      "file? poem.txt\n",
      "Don't\n",
      "erase\n",
      "it\n",
      "\n"
     ]
    }
   ],
   "source": [
    "filename = \"poem.txt\"\n",
    "\n",
    "txt = open(filename)\n",
    "\n",
    "print (\"Contents of your file \",  filename)\n",
    "print (txt.read())\n",
    "\n",
    "print (\"Type the filename again:\")\n",
    "file_again = input(\"file? \")\n",
    "\n",
    "txt_again = open(file_again)\n",
    "\n",
    "print (txt_again.read())"
   ]
  },
  {
   "cell_type": "code",
   "execution_count": 4,
   "metadata": {},
   "outputs": [
    {
     "name": "stdout",
     "output_type": "stream",
     "text": [
      "We're going to erase poem.txt\n",
      "If you don't want that, hit CTRL-C (^C).\n",
      "If you do want that, hit RETURN.\n",
      "?\n",
      "Opening the file...\n",
      "Truncating the file.  Goodbye!\n",
      "Now I'm going to ask you for three lines.\n",
      "line 1: Python\n",
      "line 2: Ython\n",
      "line 3: Thon\n",
      "I'm going to write these to the file.\n",
      "And finally, we close it.\n",
      "Contents of your file  poem.txt\n",
      "Python\n",
      "Ython\n",
      "Thon\n",
      "\n"
     ]
    }
   ],
   "source": [
    "filename = \"poem.txt\"\n",
    "\n",
    "print (\"We're going to erase\", filename)\n",
    "print (\"If you don't want that, hit CTRL-C (^C).\")\n",
    "print (\"If you do want that, hit RETURN.\")\n",
    "\n",
    "input(\"?\")\n",
    "\n",
    "print (\"Opening the file...\")\n",
    "target = open(filename, 'w')\n",
    "\n",
    "print (\"Truncating the file.  Goodbye!\")\n",
    "target.truncate()\n",
    "\n",
    "print (\"Now I'm going to ask you for three lines.\")\n",
    "\n",
    "line1 = input(\"line 1: \")\n",
    "line2 = input(\"line 2: \")\n",
    "line3 = input(\"line 3: \")\n",
    "\n",
    "print (\"I'm going to write these to the file.\")\n",
    "\n",
    "target.write(line1)\n",
    "target.write(\"\\n\")\n",
    "target.write(line2)\n",
    "target.write(\"\\n\")\n",
    "target.write(line3)\n",
    "target.write(\"\\n\")\n",
    "\n",
    "print (\"And finally, we close it.\")\n",
    "target.close()\n",
    "\n",
    "readfile = open(filename)\n",
    "\n",
    "print (\"Contents of your file \",  filename)\n",
    "print (readfile.read())"
   ]
  },
  {
   "cell_type": "code",
   "execution_count": 5,
   "metadata": {},
   "outputs": [
    {
     "name": "stdout",
     "output_type": "stream",
     "text": [
      "Copying from  poem.txt to  copy_poem.txt\n",
      "The input file is  18  bytes long\n",
      "Does the output file exist? True\n",
      "continue ..yes\n",
      "Alright, all done.\n",
      "Contents of your file  copy_poem.txt\n",
      "Python\n",
      "Ython\n",
      "Thon\n",
      "\n"
     ]
    }
   ],
   "source": [
    "from sys import argv\n",
    "from os.path import exists\n",
    "\n",
    "from_file = \"poem.txt\"\n",
    "to_file = \"copy_poem.txt\"\n",
    "\n",
    "print (\"Copying from \", from_file, \"to \", to_file)\n",
    "\n",
    "in_file = open(from_file)\n",
    "indata = in_file.read()\n",
    "\n",
    "print (\"The input file is \", len(indata),\" bytes long\")\n",
    "\n",
    "print (\"Does the output file exist?\", exists(to_file))\n",
    "input(\"continue ..\")\n",
    "\n",
    "out_file = open(to_file, 'w')\n",
    "out_file.write(indata)\n",
    "\n",
    "print (\"Alright, all done.\")\n",
    "\n",
    "out_file.close()\n",
    "in_file.close()\n",
    "\n",
    "readfile = open(to_file)\n",
    "\n",
    "print (\"Contents of your file \",  to_file)\n",
    "print (readfile.read())"
   ]
  },
  {
   "cell_type": "code",
   "execution_count": 6,
   "metadata": {},
   "outputs": [
    {
     "name": "stdout",
     "output_type": "stream",
     "text": [
      "arg1:  Lion arg2:  Hart\n",
      "arg1:  Lion arg2:  Hart\n",
      "arg1:  One\n",
      "I got nothin'.\n"
     ]
    }
   ],
   "source": [
    "def print_two(*args):\n",
    "    arg1, arg2 = args\n",
    "    print (\"arg1: \", arg1, \"arg2: \", arg2)\n",
    "\n",
    "def print_two_again(arg1, arg2):\n",
    "    print (\"arg1: \", arg1, \"arg2: \", arg2)\n",
    "\n",
    "def print_one(arg1):\n",
    "    print (\"arg1: \", arg1)\n",
    "\n",
    "def print_none():\n",
    "    print (\"I got nothin'.\")\n",
    "\n",
    "\n",
    "print_two(\"Lion\",\"Hart\")\n",
    "print_two_again(\"Lion\",\"Hart\")\n",
    "print_one(\"One\")\n",
    "print_none()"
   ]
  },
  {
   "cell_type": "code",
   "execution_count": 7,
   "metadata": {},
   "outputs": [
    {
     "name": "stdout",
     "output_type": "stream",
     "text": [
      "We can just give the function numbers directly:\n",
      "You have  20 cheeses!\n",
      "You have  30   boxes of crackers\n",
      "Man that's enough for a party!\n",
      "Get a blanket.\n",
      "\n",
      "OR, we can use variables from our script:\n",
      "You have  10 cheeses!\n",
      "You have  50   boxes of crackers\n",
      "Man that's enough for a party!\n",
      "Get a blanket.\n",
      "\n",
      "We can even do math inside too:\n",
      "You have  30 cheeses!\n",
      "You have  11   boxes of crackers\n",
      "Man that's enough for a party!\n",
      "Get a blanket.\n",
      "\n",
      "And we can combine the two, variables and math:\n",
      "You have  110 cheeses!\n",
      "You have  1050   boxes of crackers\n",
      "Man that's enough for a party!\n",
      "Get a blanket.\n",
      "\n"
     ]
    }
   ],
   "source": [
    "def cheese_and_crackers(cheese_count, boxes_of_crackers):\n",
    "    print (\"You have \",cheese_count, \"cheeses!\")\n",
    "    print (\"You have \", boxes_of_crackers,\"  boxes of crackers\")\n",
    "    print (\"Man that's enough for a party!\")\n",
    "    print (\"Get a blanket.\\n\")\n",
    "\n",
    "\n",
    "print (\"We can just give the function numbers directly:\")\n",
    "cheese_and_crackers(20, 30)\n",
    "\n",
    "\n",
    "print (\"OR, we can use variables from our script:\")\n",
    "amount_of_cheese = 10\n",
    "amount_of_crackers = 50\n",
    "\n",
    "cheese_and_crackers(amount_of_cheese, amount_of_crackers)\n",
    "\n",
    "\n",
    "print (\"We can even do math inside too:\")\n",
    "cheese_and_crackers(10 + 20, 5 + 6)\n",
    "\n",
    "\n",
    "print (\"And we can combine the two, variables and math:\")\n",
    "cheese_and_crackers(amount_of_cheese + 100, amount_of_crackers + 1000)"
   ]
  },
  {
   "cell_type": "code",
   "execution_count": 8,
   "metadata": {},
   "outputs": [
    {
     "name": "stdout",
     "output_type": "stream",
     "text": [
      "First let's print the whole file:\n",
      "\n",
      "Python\n",
      "Ython\n",
      "Thon\n",
      "\n",
      "Now let's rewind, kind of like a tape.\n",
      "Let's print three lines:\n",
      "\n",
      "1 Python\n",
      "\n",
      "2 Ython\n",
      "\n",
      "3 Thon\n",
      "\n"
     ]
    }
   ],
   "source": [
    "input_file = \"poem.txt\"\n",
    "\n",
    "def print_all(f):\n",
    "    print (f.read())\n",
    "\n",
    "def rewind(f):\n",
    "    f.seek(0)\n",
    "\n",
    "def print_a_line(line_count, f):\n",
    "    print (line_count, f.readline())\n",
    "\n",
    "current_file = open(input_file)\n",
    "\n",
    "print (\"First let's print the whole file:\\n\")\n",
    "\n",
    "print_all(current_file)\n",
    "\n",
    "print (\"Now let's rewind, kind of like a tape.\")\n",
    "\n",
    "rewind(current_file)\n",
    "\n",
    "print (\"Let's print three lines:\\n\")\n",
    "\n",
    "current_line = 1\n",
    "print_a_line(current_line, current_file)\n",
    "\n",
    "current_line = current_line + 1\n",
    "print_a_line(current_line, current_file)\n",
    "\n",
    "current_line = current_line + 1\n",
    "print_a_line(current_line, current_file)"
   ]
  },
  {
   "cell_type": "code",
   "execution_count": 9,
   "metadata": {},
   "outputs": [
    {
     "name": "stdout",
     "output_type": "stream",
     "text": [
      "Add  60 10\n",
      "Subtract  60 4\n",
      "Multiply  45 2\n",
      "Divide  200 2\n",
      "Age: Height: Weight: IQ:  70 56 90 100.0\n",
      "Here is a puzzle.\n",
      "Divide  100.0 2\n",
      "Multiply  90 50.0\n",
      "Subtract  56 4500.0\n",
      "Add  70 -4444.0\n",
      "That becomes:  -4374.0 Can you do it by hand?\n"
     ]
    }
   ],
   "source": [
    "def add(a, b):\n",
    "    print (\"Add \", a, b)\n",
    "    return a + b\n",
    "\n",
    "def subtract(a, b):\n",
    "    print (\"Subtract \", a, b)\n",
    "    return a - b\n",
    "\n",
    "def multiply(a, b):\n",
    "    print (\"Multiply \", a, b)\n",
    "    return a * b\n",
    "\n",
    "def divide(a, b):\n",
    "    print (\"Divide \", a, b)\n",
    "    return a / b\n",
    "\n",
    "age = add(60, 10)\n",
    "height = subtract(60, 4)\n",
    "weight = multiply(45, 2)\n",
    "iq = divide(200, 2)\n",
    "\n",
    "print (\"Age: Height: Weight: IQ: \" , age, height, weight, iq)\n",
    "\n",
    "print (\"Here is a puzzle.\")\n",
    "\n",
    "what = add(age, subtract(height, multiply(weight, divide(iq, 2))))\n",
    "\n",
    "print (\"That becomes: \", what, \"Can you do it by hand?\")"
   ]
  },
  {
   "cell_type": "code",
   "execution_count": 10,
   "metadata": {},
   "outputs": [
    {
     "name": "stdout",
     "output_type": "stream",
     "text": [
      "Let's practice everything.\n",
      "You'd need to know 'bout escapes with \\ that do \n",
      " newlines and \t tabs.\n",
      "--------------\n",
      "\n",
      "\tThe lovely world\n",
      "with logic so firmly planted\n",
      "cannot discern \n",
      " the needs of love\n",
      "nor comprehend passion from intuition\n",
      "and requires an explanation\n",
      "\n",
      "\t\twhere there is none.\n",
      "\n",
      "--------------\n",
      "This should be five:  5\n",
      "With a starting point of:  10000\n",
      "We'd have  5000000  beans, 5000.0  jars and  50.0  crates.\n",
      "We can also do that this way:\n",
      "We'd have 500000 beans, 500 jars, and 5 crates.\n"
     ]
    }
   ],
   "source": [
    "print (\"Let's practice everything.\")\n",
    "print ('You\\'d need to know \\'bout escapes with \\\\ that do \\n newlines and \\t tabs.')\n",
    "\n",
    "poem = \"\"\"\n",
    "\\tThe lovely world\n",
    "with logic so firmly planted\n",
    "cannot discern \\n the needs of love\n",
    "nor comprehend passion from intuition\n",
    "and requires an explanation\n",
    "\\n\\t\\twhere there is none.\n",
    "\"\"\"\n",
    "\n",
    "print (\"--------------\")\n",
    "print (poem)\n",
    "print (\"--------------\")\n",
    "\n",
    "\n",
    "five = 10 - 2 + 3 - 6\n",
    "print (\"This should be five: \",five)\n",
    "\n",
    "def secret_formula(started):\n",
    "    jelly_beans = started * 500\n",
    "    jars = jelly_beans / 1000\n",
    "    crates = jars / 100\n",
    "    return jelly_beans, jars, crates\n",
    "\n",
    "\n",
    "start_point = 10000\n",
    "beans, jars, crates = secret_formula(start_point)\n",
    "\n",
    "print (\"With a starting point of: \",start_point)\n",
    "print (\"We'd have \",beans,\" beans,\", jars, \" jars and \", crates, \" crates.\")\n",
    "\n",
    "start_point = start_point / 10\n",
    "\n",
    "print (\"We can also do that this way:\")\n",
    "print (\"We'd have %d beans, %d jars, and %d crates.\" % secret_formula(start_point))"
   ]
  },
  {
   "cell_type": "code",
   "execution_count": 11,
   "metadata": {
    "collapsed": true
   },
   "outputs": [],
   "source": [
    "def break_words(stuff):\n",
    "    \"\"\"This function will break up words for us.\"\"\"\n",
    "    words = stuff.split(' ')\n",
    "    return (words)\n",
    "\n",
    "def sort_words(words):\n",
    "    \"\"\"Sorts the words.\"\"\"\n",
    "    return sorted(words)\n",
    "\n",
    "def print_first_word(words):\n",
    "    \"\"\"Prints the first word after popping it off.\"\"\"\n",
    "    word = words.pop(0)\n",
    "    print (word)\n",
    "\n",
    "def print_last_word(words):\n",
    "    \"\"\"Prints the last word after popping it off.\"\"\"\n",
    "    word = words.pop(-1)\n",
    "    print (word)\n",
    "\n",
    "def sort_sentence(sentence):\n",
    "    \"\"\"Takes in a full sentence and returns the sorted words.\"\"\"\n",
    "    words = break_words(sentence)\n",
    "    return sort_words(words)\n",
    "\n",
    "def print_first_and_last(sentence):\n",
    "    \"\"\"Prints the first and last words of the sentence.\"\"\"\n",
    "    words = break_words(sentence)\n",
    "    print_first_word(words)\n",
    "    print_last_word(words)\n",
    "\n",
    "def print_first_and_last_sorted(sentence):\n",
    "    \"\"\"Sorts the words then prints the first and last one.\"\"\"\n",
    "    words = sort_sentence(sentence)\n",
    "    print_first_word(words)\n",
    "    print_last_word(words)\n",
    "    "
   ]
  },
  {
   "cell_type": "code",
   "execution_count": 13,
   "metadata": {},
   "outputs": [
    {
     "name": "stdout",
     "output_type": "stream",
     "text": [
      "All\n",
      "wait.\n",
      "All\n",
      "who\n",
      "All\n",
      "wait.\n",
      "All\n",
      "who\n"
     ]
    }
   ],
   "source": [
    "import lphw\n",
    "\n",
    "sentence = \"All good things come to those who wait.\"\n",
    "words = lphw.break_words(sentence)\n",
    "words\n",
    "sorted_words = lphw.sort_words(words)\n",
    "sorted_words\n",
    "lphw.print_first_word(words)\n",
    "lphw.print_last_word(words)\n",
    "words\n",
    "lphw.print_first_word(sorted_words)\n",
    "lphw.print_last_word(sorted_words)\n",
    "sorted_words\n",
    "sorted_words = lphw.sort_sentence(sentence)\n",
    "sorted_words\n",
    "lphw.print_first_and_last(sentence)\n",
    "lphw.print_first_and_last_sorted(sentence)"
   ]
  },
  {
   "cell_type": "code",
   "execution_count": 14,
   "metadata": {},
   "outputs": [
    {
     "name": "stdout",
     "output_type": "stream",
     "text": [
      "Too many cats! The world is doomed!\n",
      "The world is dry!\n",
      "People are greater than or equal to dogs.\n",
      "People are less than or equal to dogs.\n",
      "People are dogs.\n"
     ]
    }
   ],
   "source": [
    "people = 20\n",
    "cats = 30\n",
    "dogs = 15\n",
    "\n",
    "\n",
    "if people < cats:\n",
    "    print (\"Too many cats! The world is doomed!\")\n",
    "\n",
    "if people > cats:\n",
    "    print (\"Not many cats! The world is saved!\")\n",
    "\n",
    "if people < dogs:\n",
    "    print (\"The world is drooled on!\")\n",
    "\n",
    "if people > dogs:\n",
    "    print (\"The world is dry!\")\n",
    "\n",
    "\n",
    "dogs += 5\n",
    "\n",
    "if people >= dogs:\n",
    "    print (\"People are greater than or equal to dogs.\")\n",
    "\n",
    "if people <= dogs:\n",
    "    print (\"People are less than or equal to dogs.\")\n",
    "\n",
    "\n",
    "if people == dogs:\n",
    "    print (\"People are dogs.\")"
   ]
  },
  {
   "cell_type": "code",
   "execution_count": 15,
   "metadata": {},
   "outputs": [
    {
     "name": "stdout",
     "output_type": "stream",
     "text": [
      "We should take the cars.\n",
      "Maybe we could take the trucks.\n",
      "Alright, let's just take the trucks.\n"
     ]
    }
   ],
   "source": [
    "people = 30\n",
    "cars = 40\n",
    "trucks = 15\n",
    "\n",
    "\n",
    "if cars > people:\n",
    "    print (\"We should take the cars.\")\n",
    "elif cars < people:\n",
    "    print (\"We should not take the cars.\")\n",
    "else:\n",
    "    print (\"We can't decide.\")\n",
    "\n",
    "if trucks > cars:\n",
    "    print (\"That's too many trucks.\")\n",
    "elif trucks < cars:\n",
    "    print (\"Maybe we could take the trucks.\")\n",
    "else:\n",
    "    print (\"We still can't decide.\")\n",
    "\n",
    "if people > trucks:\n",
    "    print (\"Alright, let's just take the trucks.\")\n",
    "else:\n",
    "    print (\"Fine, let's stay home then.\")"
   ]
  },
  {
   "cell_type": "code",
   "execution_count": 16,
   "metadata": {},
   "outputs": [
    {
     "name": "stdout",
     "output_type": "stream",
     "text": [
      "You enter a dark room with two doors.  Do you go through door #1 or door #2?\n",
      "> 1\n",
      "There's a giant bear here eating a cheese cake.  What do you do?\n",
      "1. Take the cake.\n",
      "2. Scream at the bear.\n",
      "> 1\n",
      "The bear eats your face off.  Good job!\n"
     ]
    }
   ],
   "source": [
    "print (\"You enter a dark room with two doors.  Do you go through door #1 or door #2?\")\n",
    "\n",
    "door = input(\"> \")\n",
    "\n",
    "if door == \"1\":\n",
    "    print (\"There's a giant bear here eating a cheese cake.  What do you do?\")\n",
    "    print (\"1. Take the cake.\")\n",
    "    print (\"2. Scream at the bear.\")\n",
    "\n",
    "    bear = input(\"> \")\n",
    "\n",
    "    if bear == \"1\":\n",
    "        print (\"The bear eats your face off.  Good job!\")\n",
    "    elif bear == \"2\":\n",
    "        print (\"The bear eats your legs off.  Good job!\")\n",
    "    else:\n",
    "        print (\"Well, doing \", bear, \" is probably better.  Bear runs away.\")\n",
    "\n",
    "elif door == \"2\":\n",
    "    print (\"You stare into the endless abyss at Cthulhu's retina.\")\n",
    "    print (\"1. Blueberries.\")\n",
    "    print (\"2. Yellow jacket clothespins.\")\n",
    "    print (\"3. Understanding revolvers yelling melodies.\")\n",
    "\n",
    "    insanity = input(\"> \")\n",
    "\n",
    "    if insanity == \"1\" or insanity == \"2\":\n",
    "        print (\"Your body survives powered by a mind of jello.  Good job!\")\n",
    "    else:\n",
    "        print (\"The insanity rots your eyes into a pool of muck.  Good job!\")\n",
    "\n",
    "else:\n",
    "    print (\"You stumble around and fall on a knife and die.  Good job!\")"
   ]
  },
  {
   "cell_type": "code",
   "execution_count": 17,
   "metadata": {},
   "outputs": [
    {
     "name": "stdout",
     "output_type": "stream",
     "text": [
      "This is count 1\n",
      "This is count 2\n",
      "This is count 3\n",
      "This is count 4\n",
      "This is count 5\n",
      "A fruit of type: apples\n",
      "A fruit of type: oranges\n",
      "A fruit of type: pears\n",
      "A fruit of type: apricots\n",
      "I got 1\n",
      "I got 'pennies'\n",
      "I got 2\n",
      "I got 'dimes'\n",
      "I got 3\n",
      "I got 'quarters'\n",
      "Adding 0 to the list.\n",
      "Adding 1 to the list.\n",
      "Adding 2 to the list.\n",
      "Adding 3 to the list.\n",
      "Adding 4 to the list.\n",
      "Adding 5 to the list.\n",
      "Element was: 0\n",
      "Element was: 1\n",
      "Element was: 2\n",
      "Element was: 3\n",
      "Element was: 4\n",
      "Element was: 5\n"
     ]
    }
   ],
   "source": [
    "the_count = [1, 2, 3, 4, 5]\n",
    "fruits = ['apples', 'oranges', 'pears', 'apricots']\n",
    "change = [1, 'pennies', 2, 'dimes', 3, 'quarters']\n",
    "\n",
    "for number in the_count:\n",
    "    print (\"This is count %d\" % number)\n",
    "\n",
    "for fruit in fruits:\n",
    "    print (\"A fruit of type: %s\" % fruit)\n",
    "\n",
    "for i in change:\n",
    "    print (\"I got %r\" % i)\n",
    "\n",
    "elements = []\n",
    "\n",
    "for i in range(0, 6):\n",
    "    print (\"Adding %d to the list.\" % i)\n",
    "    elements.append(i)\n",
    "\n",
    "for i in elements:\n",
    "    print (\"Element was: %d\" % i)"
   ]
  },
  {
   "cell_type": "code",
   "execution_count": 18,
   "metadata": {},
   "outputs": [
    {
     "name": "stdout",
     "output_type": "stream",
     "text": [
      "At the top i is 0\n",
      "Numbers now:  [0]\n",
      "At the bottom i is 1\n",
      "At the top i is 1\n",
      "Numbers now:  [0, 1]\n",
      "At the bottom i is 2\n",
      "At the top i is 2\n",
      "Numbers now:  [0, 1, 2]\n",
      "At the bottom i is 3\n",
      "At the top i is 3\n",
      "Numbers now:  [0, 1, 2, 3]\n",
      "At the bottom i is 4\n",
      "At the top i is 4\n",
      "Numbers now:  [0, 1, 2, 3, 4]\n",
      "At the bottom i is 5\n",
      "At the top i is 5\n",
      "Numbers now:  [0, 1, 2, 3, 4, 5]\n",
      "At the bottom i is 6\n",
      "The numbers: \n",
      "0\n",
      "1\n",
      "2\n",
      "3\n",
      "4\n",
      "5\n"
     ]
    }
   ],
   "source": [
    "i = 0\n",
    "numbers = []\n",
    "\n",
    "while i < 6:\n",
    "    print (\"At the top i is %d\" % i)\n",
    "    numbers.append(i)\n",
    "\n",
    "    i = i + 1\n",
    "    print (\"Numbers now: \", numbers)\n",
    "    print (\"At the bottom i is %d\" % i)\n",
    "\n",
    "\n",
    "print (\"The numbers: \")\n",
    "\n",
    "for num in numbers:\n",
    "    print (num)"
   ]
  },
  {
   "cell_type": "code",
   "execution_count": 19,
   "metadata": {},
   "outputs": [
    {
     "name": "stdout",
     "output_type": "stream",
     "text": [
      "You are in a dark room.\n",
      "There is a door to your right and left.\n",
      "Which one do you take?\n",
      "> right\n",
      "Here you see the great evil cherno.\n",
      "He, it, whatever stares at you and you go insane.\n",
      "Do you flee for your life or eat your head?\n",
      "> flee\n",
      "You are in a dark room.\n",
      "There is a door to your right and left.\n",
      "Which one do you take?\n",
      "> left\n",
      "There is a bear here.\n",
      "The bear has a bunch of honey.\n",
      "The fat bear is in front of another door.\n",
      "How are you going to move the bear?\n",
      "> take honey\n",
      "The bear looks at you then slaps your face off. Good job!\n"
     ]
    },
    {
     "ename": "SystemExit",
     "evalue": "",
     "output_type": "error",
     "traceback": [
      "An exception has occurred, use %tb to see the full traceback.\n",
      "\u001b[0;31mSystemExit\u001b[0m\n"
     ]
    },
    {
     "name": "stderr",
     "output_type": "stream",
     "text": [
      "/anaconda/lib/python3.6/site-packages/IPython/core/interactiveshell.py:2889: UserWarning: To exit: use 'exit', 'quit', or Ctrl-D.\n",
      "  warn(\"To exit: use 'exit', 'quit', or Ctrl-D.\", stacklevel=1)\n"
     ]
    }
   ],
   "source": [
    "from sys import exit\n",
    "\n",
    "def gold_room():\n",
    "    print (\"This room is full of gold.  How much do you take?\")\n",
    "\n",
    "    choice = input(\"> \")\n",
    "    if \"0\" in choice or \"1\" in choice:\n",
    "        how_much = int(choice)\n",
    "    else:\n",
    "        dead(\"Man, learn to type a number.\")\n",
    "\n",
    "    if how_much < 50:\n",
    "        print (\"Nice, you're not greedy, you win!\")\n",
    "        exit(0)\n",
    "    else:\n",
    "        dead(\"You greedy bastard!\")\n",
    "\n",
    "\n",
    "def bear_room():\n",
    "    print (\"There is a bear here.\")\n",
    "    print (\"The bear has a bunch of honey.\")\n",
    "    print (\"The fat bear is in front of another door.\")\n",
    "    print (\"How are you going to move the bear?\")\n",
    "    bear_moved = False\n",
    "\n",
    "    while True:\n",
    "        choice = input(\"> \")\n",
    "\n",
    "        if choice == \"take honey\":\n",
    "            dead(\"The bear looks at you then slaps your face off.\")\n",
    "        elif choice == \"taunt bear\" and not bear_moved:\n",
    "            print (\"The bear has moved from the door. You can go through it now.\")\n",
    "            bear_moved = True\n",
    "        elif choice == \"taunt bear\" and bear_moved:\n",
    "            dead(\"The bear gets pissed off and chews your leg off.\")\n",
    "        elif choice == \"open door\" and bear_moved:\n",
    "            gold_room()\n",
    "        else:\n",
    "            print (\"I got no idea what that means.\")\n",
    "\n",
    "\n",
    "def chernobil_room():\n",
    "    print (\"Here you see the great evil cherno.\")\n",
    "    print (\"He, it, whatever stares at you and you go insane.\")\n",
    "    print (\"Do you flee for your life or eat your head?\")\n",
    "\n",
    "    choice = input(\"> \")\n",
    "\n",
    "    if \"flee\" in choice:\n",
    "        start()\n",
    "    elif \"head\" in choice:\n",
    "        dead(\"Well that was tasty!\")\n",
    "    else:\n",
    "        chernobil_room()\n",
    "\n",
    "\n",
    "def dead(why):\n",
    "    print (why, \"Good job!\")\n",
    "    #quit()\n",
    "    exit()\n",
    "\n",
    "def start():\n",
    "    print (\"You are in a dark room.\")\n",
    "    print (\"There is a door to your right and left.\")\n",
    "    print (\"Which one do you take?\")\n",
    "\n",
    "    choice = input(\"> \")\n",
    "\n",
    "    if choice == \"left\":\n",
    "        bear_room()\n",
    "    elif choice == \"right\":\n",
    "        chernobil_room()\n",
    "    else:\n",
    "        dead(\"You stumble around the room until you starve.\")\n",
    "\n",
    "\n",
    "start()"
   ]
  },
  {
   "cell_type": "code",
   "execution_count": 20,
   "metadata": {},
   "outputs": [
    {
     "name": "stdout",
     "output_type": "stream",
     "text": [
      "Wait there are not 10 things in that list. Let's fix that.\n",
      "Adding:  Boy\n",
      "There are 7 items now.\n",
      "Adding:  Girl\n",
      "There are 8 items now.\n",
      "Adding:  Banana\n",
      "There are 9 items now.\n",
      "Adding:  Corn\n",
      "There are 10 items now.\n",
      "There we go:  ['Apples', 'Oranges', 'Crows', 'Telephone', 'Light', 'Sugar', 'Boy', 'Girl', 'Banana', 'Corn']\n",
      "Let's do some things with stuff.\n",
      "Oranges\n",
      "Corn\n",
      "Corn\n",
      "Apples Oranges Crows Telephone Light Sugar Boy Girl Banana\n",
      "Telephone#Light\n"
     ]
    }
   ],
   "source": [
    "ten_things = \"Apples Oranges Crows Telephone Light Sugar\"\n",
    "\n",
    "print (\"Wait there are not 10 things in that list. Let's fix that.\")\n",
    "\n",
    "stuff = ten_things.split(' ')\n",
    "more_stuff = [\"Day\", \"Night\", \"Song\", \"Frisbee\", \"Corn\", \"Banana\", \"Girl\", \"Boy\"]\n",
    "\n",
    "while len(stuff) != 10:\n",
    "    next_one = more_stuff.pop()\n",
    "    print (\"Adding: \", next_one)\n",
    "    stuff.append(next_one)\n",
    "    print (\"There are %d items now.\" % len(stuff))\n",
    "\n",
    "print (\"There we go: \", stuff)\n",
    "\n",
    "print (\"Let's do some things with stuff.\")\n",
    "\n",
    "print (stuff[1])\n",
    "print (stuff[-1]) \n",
    "print (stuff.pop())\n",
    "print (' '.join(stuff)) \n",
    "print ('#'.join(stuff[3:5]))"
   ]
  },
  {
   "cell_type": "code",
   "execution_count": 21,
   "metadata": {},
   "outputs": [
    {
     "name": "stdout",
     "output_type": "stream",
     "text": [
      "working with lists\n",
      "y\n",
      "q\n",
      "working with dictionary\n",
      "Zidaan\n",
      "46\n",
      "74\n",
      "Los Angeles\n"
     ]
    },
    {
     "data": {
      "text/plain": [
       "{'age': 46, 'city': 'Los Angeles', 'height': 74, 'name': 'Zidaan'}"
      ]
     },
     "execution_count": 21,
     "metadata": {},
     "output_type": "execute_result"
    }
   ],
   "source": [
    "print (\"working with lists\")\n",
    "\n",
    "things = ['x', 'y', 'w', 'z']\n",
    "print (things[1])\n",
    "\n",
    "things[1] = 'q'\n",
    "print (things[1])\n",
    "\n",
    "things\n",
    "\n",
    "print (\"working with dictionary\")\n",
    "\n",
    "\n",
    "stuff = {'name': 'Zidaan', 'age': 46, 'height': 6 * 12 + 2}\n",
    "print (stuff['name'])\n",
    "\n",
    "print (stuff['age'])\n",
    "\n",
    "print (stuff['height'])\n",
    "\n",
    "stuff['city'] = \"Los Angeles\"\n",
    "print (stuff['city'])\n",
    "\n",
    "stuff"
   ]
  },
  {
   "cell_type": "code",
   "execution_count": null,
   "metadata": {
    "collapsed": true
   },
   "outputs": [],
   "source": []
  }
 ],
 "metadata": {
  "kernelspec": {
   "display_name": "Python 3",
   "language": "python",
   "name": "python3"
  },
  "language_info": {
   "codemirror_mode": {
    "name": "ipython",
    "version": 3
   },
   "file_extension": ".py",
   "mimetype": "text/x-python",
   "name": "python",
   "nbconvert_exporter": "python",
   "pygments_lexer": "ipython3",
   "version": "3.6.1"
  }
 },
 "nbformat": 4,
 "nbformat_minor": 2
}
